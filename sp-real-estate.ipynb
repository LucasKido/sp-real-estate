{
 "cells": [
  {
   "cell_type": "markdown",
   "metadata": {},
   "source": [
    "<h1><center><b>Estudo do Mercado Imobiliário de São Paulo</b></center></h1>\n",
    "\n",
    "<h2>Introdução</h2>\n",
    "<font size=3>São Paulo é o centro financeiro do Brasil e tem uma área de 1.521 km², com isso se torna a 10ª maior cidade do mundo. Com essas informações podemos inferir que teremos que teremos muitos imovéis com bastante diversificação para a nossa análise.</font>\n",
    "\n",
    "<a name='INDICE'></a>\n",
    "<h2>Índice</h2>\n",
    "<ol>\n",
    "    <li><a href='#PREPRO'>Pré-processamento</a></li>\n",
    "    <ol>\n",
    "        <li><a href='#BIBLIO'>Importando as bibliotecas</a></li>\n",
    "        <li><a href='#DATASET'>Importando o dataset</a></li>\n",
    "        <li><a href='#SPLIT'>Divindo entre <i>train</i> e <i>test</i></a></li>\n",
    "        <li><a href='#FEAT'>Feature engineering</a></li>\n",
    "    </ol>\n",
    "    <li><a href='#MODEL'>Modelo</a></li>\n",
    "    <ol>\n",
    "        <li><a href='#RANDF'>Random Forrest</a></li>\n",
    "    </ol>\n",
    "</ol>\n",
    "\n",
    "<a name='PREPRO'></a>\n",
    "<h2>Pré-processamento</h2>\n",
    "<font size=3>Nesta parte o dataset será <i>\"limpo\"</i> para ser utilizado no modelo.</font>\n",
    "<a name='BIBLIO'></a>\n",
    "<h3>Importando as bibliotecas</h3>"
   ]
  },
  {
   "cell_type": "code",
   "execution_count": 172,
   "metadata": {},
   "outputs": [],
   "source": [
    "import pandas as pd\n",
    "import numpy as np\n",
    "import matplotlib.pyplot as plt\n",
    "import seaborn as sns\n",
    "import warnings\n",
    "%matplotlib inline\n",
    "\n",
    "from sklearn.model_selection import train_test_split\n",
    "from sklearn.preprocessing import OneHotEncoder\n",
    "from sklearn.linear_model import LinearRegression\n",
    "from sklearn.ensemble import RandomForestRegressor\n",
    "from sklearn.metrics import mean_absolute_error, mean_squared_error, mean_squared_log_error\n",
    "\n",
    "warnings.filterwarnings(\"ignore\")\n",
    "pd.options.display.max_columns = 999"
   ]
  },
  {
   "cell_type": "markdown",
   "metadata": {},
   "source": [
    "<a name='DATASET'></a>\n",
    "<h3>Importando o dataset</h3>"
   ]
  },
  {
   "cell_type": "code",
   "execution_count": 137,
   "metadata": {},
   "outputs": [
    {
     "data": {
      "text/html": [
       "<div>\n",
       "<style scoped>\n",
       "    .dataframe tbody tr th:only-of-type {\n",
       "        vertical-align: middle;\n",
       "    }\n",
       "\n",
       "    .dataframe tbody tr th {\n",
       "        vertical-align: top;\n",
       "    }\n",
       "\n",
       "    .dataframe thead th {\n",
       "        text-align: right;\n",
       "    }\n",
       "</style>\n",
       "<table border=\"1\" class=\"dataframe\">\n",
       "  <thead>\n",
       "    <tr style=\"text-align: right;\">\n",
       "      <th></th>\n",
       "      <th>Price</th>\n",
       "      <th>Condo</th>\n",
       "      <th>Size</th>\n",
       "      <th>Rooms</th>\n",
       "      <th>Toilets</th>\n",
       "      <th>Suites</th>\n",
       "      <th>Parking</th>\n",
       "      <th>Elevator</th>\n",
       "      <th>Furnished</th>\n",
       "      <th>Swimming Pool</th>\n",
       "      <th>New</th>\n",
       "      <th>District</th>\n",
       "      <th>Negotiation Type</th>\n",
       "      <th>Property Type</th>\n",
       "      <th>Latitude</th>\n",
       "      <th>Longitude</th>\n",
       "      <th>Subway Station</th>\n",
       "      <th>Dist2Subway</th>\n",
       "    </tr>\n",
       "  </thead>\n",
       "  <tbody>\n",
       "    <tr>\n",
       "      <td>0</td>\n",
       "      <td>930</td>\n",
       "      <td>220</td>\n",
       "      <td>47</td>\n",
       "      <td>2</td>\n",
       "      <td>2</td>\n",
       "      <td>1</td>\n",
       "      <td>1</td>\n",
       "      <td>0</td>\n",
       "      <td>0</td>\n",
       "      <td>0</td>\n",
       "      <td>0</td>\n",
       "      <td>Artur Alvim</td>\n",
       "      <td>rent</td>\n",
       "      <td>apartment</td>\n",
       "      <td>-23.543138</td>\n",
       "      <td>-46.479486</td>\n",
       "      <td>Artur Alvim</td>\n",
       "      <td>0.621993</td>\n",
       "    </tr>\n",
       "    <tr>\n",
       "      <td>1</td>\n",
       "      <td>1000</td>\n",
       "      <td>148</td>\n",
       "      <td>45</td>\n",
       "      <td>2</td>\n",
       "      <td>2</td>\n",
       "      <td>1</td>\n",
       "      <td>1</td>\n",
       "      <td>0</td>\n",
       "      <td>0</td>\n",
       "      <td>0</td>\n",
       "      <td>0</td>\n",
       "      <td>Artur Alvim</td>\n",
       "      <td>rent</td>\n",
       "      <td>apartment</td>\n",
       "      <td>-23.550239</td>\n",
       "      <td>-46.480718</td>\n",
       "      <td>Artur Alvim</td>\n",
       "      <td>1.179514</td>\n",
       "    </tr>\n",
       "    <tr>\n",
       "      <td>2</td>\n",
       "      <td>1000</td>\n",
       "      <td>100</td>\n",
       "      <td>48</td>\n",
       "      <td>2</td>\n",
       "      <td>2</td>\n",
       "      <td>1</td>\n",
       "      <td>1</td>\n",
       "      <td>0</td>\n",
       "      <td>0</td>\n",
       "      <td>0</td>\n",
       "      <td>0</td>\n",
       "      <td>Artur Alvim</td>\n",
       "      <td>rent</td>\n",
       "      <td>apartment</td>\n",
       "      <td>-23.542818</td>\n",
       "      <td>-46.485665</td>\n",
       "      <td>Artur Alvim</td>\n",
       "      <td>0.301435</td>\n",
       "    </tr>\n",
       "    <tr>\n",
       "      <td>3</td>\n",
       "      <td>1000</td>\n",
       "      <td>200</td>\n",
       "      <td>48</td>\n",
       "      <td>2</td>\n",
       "      <td>2</td>\n",
       "      <td>1</td>\n",
       "      <td>1</td>\n",
       "      <td>0</td>\n",
       "      <td>0</td>\n",
       "      <td>0</td>\n",
       "      <td>0</td>\n",
       "      <td>Artur Alvim</td>\n",
       "      <td>rent</td>\n",
       "      <td>apartment</td>\n",
       "      <td>-23.547171</td>\n",
       "      <td>-46.483014</td>\n",
       "      <td>Artur Alvim</td>\n",
       "      <td>0.786418</td>\n",
       "    </tr>\n",
       "    <tr>\n",
       "      <td>4</td>\n",
       "      <td>1300</td>\n",
       "      <td>410</td>\n",
       "      <td>55</td>\n",
       "      <td>2</td>\n",
       "      <td>2</td>\n",
       "      <td>1</td>\n",
       "      <td>1</td>\n",
       "      <td>1</td>\n",
       "      <td>0</td>\n",
       "      <td>0</td>\n",
       "      <td>0</td>\n",
       "      <td>Artur Alvim</td>\n",
       "      <td>rent</td>\n",
       "      <td>apartment</td>\n",
       "      <td>-23.525025</td>\n",
       "      <td>-46.482436</td>\n",
       "      <td>Artur Alvim</td>\n",
       "      <td>1.701374</td>\n",
       "    </tr>\n",
       "  </tbody>\n",
       "</table>\n",
       "</div>"
      ],
      "text/plain": [
       "   Price  Condo  Size  Rooms  Toilets  Suites  Parking  Elevator  Furnished  \\\n",
       "0    930    220    47      2        2       1        1         0          0   \n",
       "1   1000    148    45      2        2       1        1         0          0   \n",
       "2   1000    100    48      2        2       1        1         0          0   \n",
       "3   1000    200    48      2        2       1        1         0          0   \n",
       "4   1300    410    55      2        2       1        1         1          0   \n",
       "\n",
       "   Swimming Pool  New     District Negotiation Type Property Type   Latitude  \\\n",
       "0              0    0  Artur Alvim             rent     apartment -23.543138   \n",
       "1              0    0  Artur Alvim             rent     apartment -23.550239   \n",
       "2              0    0  Artur Alvim             rent     apartment -23.542818   \n",
       "3              0    0  Artur Alvim             rent     apartment -23.547171   \n",
       "4              0    0  Artur Alvim             rent     apartment -23.525025   \n",
       "\n",
       "   Longitude Subway Station  Dist2Subway  \n",
       "0 -46.479486    Artur Alvim     0.621993  \n",
       "1 -46.480718    Artur Alvim     1.179514  \n",
       "2 -46.485665    Artur Alvim     0.301435  \n",
       "3 -46.483014    Artur Alvim     0.786418  \n",
       "4 -46.482436    Artur Alvim     1.701374  "
      ]
     },
     "execution_count": 137,
     "metadata": {},
     "output_type": "execute_result"
    }
   ],
   "source": [
    "df = pd.read_csv('./imoveis-sp.csv')\n",
    "df.head()"
   ]
  },
  {
   "cell_type": "markdown",
   "metadata": {},
   "source": [
    "<font size=3>Adicionando a variável target que será a soma do <i>preço</i> e <i>valor do condomínio</i>.</font>"
   ]
  },
  {
   "cell_type": "code",
   "execution_count": 138,
   "metadata": {},
   "outputs": [],
   "source": [
    "df['y'] = df['Price'] + df['Condo']"
   ]
  },
  {
   "cell_type": "markdown",
   "metadata": {},
   "source": [
    "<a name='SPLIT'></a>\n",
    "<h3>Dividindo entre <i>train</i> e <i>test</i></h3>"
   ]
  },
  {
   "cell_type": "code",
   "execution_count": 139,
   "metadata": {},
   "outputs": [],
   "source": [
    "X = df.drop(labels=['Price', 'Condo', 'y'], axis=1)\n",
    "y = df['y']"
   ]
  },
  {
   "cell_type": "code",
   "execution_count": 140,
   "metadata": {},
   "outputs": [
    {
     "name": "stdout",
     "output_type": "stream",
     "text": [
      "X_train:(8931, 16) \n",
      "y_train:(8931,) \n",
      "X_test:\t(3828, 16) \n",
      "y_test:\t(3828,)\n"
     ]
    }
   ],
   "source": [
    "X_train, X_test, y_train, y_test = train_test_split(X, y, test_size=0.3, random_state=75)\n",
    "print('X_train:{} \\ny_train:{} \\nX_test:\\t{} \\ny_test:\\t{}'.format(X_train.shape,y_train.shape,X_test.shape,y_test.shape))"
   ]
  },
  {
   "cell_type": "code",
   "execution_count": 141,
   "metadata": {},
   "outputs": [
    {
     "data": {
      "text/html": [
       "<div>\n",
       "<style scoped>\n",
       "    .dataframe tbody tr th:only-of-type {\n",
       "        vertical-align: middle;\n",
       "    }\n",
       "\n",
       "    .dataframe tbody tr th {\n",
       "        vertical-align: top;\n",
       "    }\n",
       "\n",
       "    .dataframe thead th {\n",
       "        text-align: right;\n",
       "    }\n",
       "</style>\n",
       "<table border=\"1\" class=\"dataframe\">\n",
       "  <thead>\n",
       "    <tr style=\"text-align: right;\">\n",
       "      <th></th>\n",
       "      <th>Size</th>\n",
       "      <th>Rooms</th>\n",
       "      <th>Toilets</th>\n",
       "      <th>Suites</th>\n",
       "      <th>Parking</th>\n",
       "      <th>Elevator</th>\n",
       "      <th>Furnished</th>\n",
       "      <th>Swimming Pool</th>\n",
       "      <th>New</th>\n",
       "      <th>District</th>\n",
       "      <th>Negotiation Type</th>\n",
       "      <th>Property Type</th>\n",
       "      <th>Latitude</th>\n",
       "      <th>Longitude</th>\n",
       "      <th>Subway Station</th>\n",
       "      <th>Dist2Subway</th>\n",
       "    </tr>\n",
       "  </thead>\n",
       "  <tbody>\n",
       "    <tr>\n",
       "      <td>8128</td>\n",
       "      <td>47</td>\n",
       "      <td>2</td>\n",
       "      <td>2</td>\n",
       "      <td>1</td>\n",
       "      <td>1</td>\n",
       "      <td>1</td>\n",
       "      <td>0</td>\n",
       "      <td>1</td>\n",
       "      <td>0</td>\n",
       "      <td>São Mateus</td>\n",
       "      <td>sale</td>\n",
       "      <td>apartment</td>\n",
       "      <td>-23.594348</td>\n",
       "      <td>-46.467430</td>\n",
       "      <td>Vila Uniao</td>\n",
       "      <td>5.004922</td>\n",
       "    </tr>\n",
       "    <tr>\n",
       "      <td>5585</td>\n",
       "      <td>67</td>\n",
       "      <td>3</td>\n",
       "      <td>2</td>\n",
       "      <td>1</td>\n",
       "      <td>1</td>\n",
       "      <td>0</td>\n",
       "      <td>0</td>\n",
       "      <td>0</td>\n",
       "      <td>0</td>\n",
       "      <td>Campo Limpo</td>\n",
       "      <td>rent</td>\n",
       "      <td>apartment</td>\n",
       "      <td>-23.652268</td>\n",
       "      <td>-46.766401</td>\n",
       "      <td>Capao Redondo</td>\n",
       "      <td>0.781525</td>\n",
       "    </tr>\n",
       "    <tr>\n",
       "      <td>2067</td>\n",
       "      <td>57</td>\n",
       "      <td>2</td>\n",
       "      <td>2</td>\n",
       "      <td>1</td>\n",
       "      <td>1</td>\n",
       "      <td>1</td>\n",
       "      <td>0</td>\n",
       "      <td>0</td>\n",
       "      <td>0</td>\n",
       "      <td>Rio Pequeno</td>\n",
       "      <td>rent</td>\n",
       "      <td>apartment</td>\n",
       "      <td>-23.559315</td>\n",
       "      <td>-46.748244</td>\n",
       "      <td>Sao Paulo Morumbi</td>\n",
       "      <td>3.872227</td>\n",
       "    </tr>\n",
       "    <tr>\n",
       "      <td>8560</td>\n",
       "      <td>46</td>\n",
       "      <td>2</td>\n",
       "      <td>2</td>\n",
       "      <td>1</td>\n",
       "      <td>1</td>\n",
       "      <td>0</td>\n",
       "      <td>0</td>\n",
       "      <td>0</td>\n",
       "      <td>0</td>\n",
       "      <td>Cidade Ademar</td>\n",
       "      <td>sale</td>\n",
       "      <td>apartment</td>\n",
       "      <td>-23.674722</td>\n",
       "      <td>-46.653257</td>\n",
       "      <td>Jabaquara</td>\n",
       "      <td>3.381422</td>\n",
       "    </tr>\n",
       "    <tr>\n",
       "      <td>4344</td>\n",
       "      <td>92</td>\n",
       "      <td>3</td>\n",
       "      <td>2</td>\n",
       "      <td>1</td>\n",
       "      <td>1</td>\n",
       "      <td>0</td>\n",
       "      <td>0</td>\n",
       "      <td>0</td>\n",
       "      <td>0</td>\n",
       "      <td>Pinheiros</td>\n",
       "      <td>rent</td>\n",
       "      <td>apartment</td>\n",
       "      <td>-23.562718</td>\n",
       "      <td>-46.674759</td>\n",
       "      <td>Oscar Freire</td>\n",
       "      <td>0.353806</td>\n",
       "    </tr>\n",
       "  </tbody>\n",
       "</table>\n",
       "</div>"
      ],
      "text/plain": [
       "      Size  Rooms  Toilets  Suites  Parking  Elevator  Furnished  \\\n",
       "8128    47      2        2       1        1         1          0   \n",
       "5585    67      3        2       1        1         0          0   \n",
       "2067    57      2        2       1        1         1          0   \n",
       "8560    46      2        2       1        1         0          0   \n",
       "4344    92      3        2       1        1         0          0   \n",
       "\n",
       "      Swimming Pool  New       District Negotiation Type Property Type  \\\n",
       "8128              1    0     São Mateus             sale     apartment   \n",
       "5585              0    0    Campo Limpo             rent     apartment   \n",
       "2067              0    0    Rio Pequeno             rent     apartment   \n",
       "8560              0    0  Cidade Ademar             sale     apartment   \n",
       "4344              0    0      Pinheiros             rent     apartment   \n",
       "\n",
       "       Latitude  Longitude     Subway Station  Dist2Subway  \n",
       "8128 -23.594348 -46.467430         Vila Uniao     5.004922  \n",
       "5585 -23.652268 -46.766401      Capao Redondo     0.781525  \n",
       "2067 -23.559315 -46.748244  Sao Paulo Morumbi     3.872227  \n",
       "8560 -23.674722 -46.653257          Jabaquara     3.381422  \n",
       "4344 -23.562718 -46.674759       Oscar Freire     0.353806  "
      ]
     },
     "execution_count": 141,
     "metadata": {},
     "output_type": "execute_result"
    }
   ],
   "source": [
    "X_train.tail()"
   ]
  },
  {
   "cell_type": "markdown",
   "metadata": {},
   "source": [
    "<a name='FEAT'></a>\n",
    "<h3>Feature engineering</h3>\n",
    "<font size=3>Verificando a quantidade de valores distintos em cada feature.</font>"
   ]
  },
  {
   "cell_type": "code",
   "execution_count": 142,
   "metadata": {},
   "outputs": [
    {
     "name": "stdout",
     "output_type": "stream",
     "text": [
      "Size: 314\n",
      "Rooms: 8\n",
      "Toilets: 8\n",
      "Suites: 6\n",
      "Parking: 10\n",
      "Elevator: 2\n",
      "Furnished: 2\n",
      "Swimming Pool: 2\n",
      "New: 2\n",
      "District: 96\n",
      "Negotiation Type: 2\n",
      "Property Type: 1\n",
      "Latitude: 6352\n",
      "Longitude: 6395\n",
      "Subway Station: 79\n",
      "Dist2Subway: 6466\n"
     ]
    }
   ],
   "source": [
    "for feature in X_train.columns:\n",
    "    print('{}: {}'.format(feature, X_train[feature].nunique()))"
   ]
  },
  {
   "cell_type": "markdown",
   "metadata": {},
   "source": [
    "<font size=3>Como a feature <i>Property Type</i> só contém um valor distinto será retirada, e como <i>Subway Station</i> na maioria das vezes é igual ao campo <i>District</i> iremos retirar também.</font>"
   ]
  },
  {
   "cell_type": "code",
   "execution_count": 143,
   "metadata": {},
   "outputs": [],
   "source": [
    "X_train.drop(['Property Type','Subway Station'], axis=1, inplace=True)\n",
    "X_test.drop(['Property Type', 'Subway Station'], axis=1, inplace=True)"
   ]
  },
  {
   "cell_type": "code",
   "execution_count": 144,
   "metadata": {},
   "outputs": [
    {
     "data": {
      "text/plain": [
       "Size                  int64\n",
       "Rooms                 int64\n",
       "Toilets               int64\n",
       "Suites                int64\n",
       "Parking               int64\n",
       "Elevator              int64\n",
       "Furnished             int64\n",
       "Swimming Pool         int64\n",
       "New                   int64\n",
       "District             object\n",
       "Negotiation Type     object\n",
       "Latitude            float64\n",
       "Longitude           float64\n",
       "Dist2Subway         float64\n",
       "dtype: object"
      ]
     },
     "execution_count": 144,
     "metadata": {},
     "output_type": "execute_result"
    }
   ],
   "source": [
    "X_train.dtypes"
   ]
  },
  {
   "cell_type": "markdown",
   "metadata": {},
   "source": [
    "<font size=3>Com o <i>OneHotEncoder</i> é possível transformar as variáveis categóricas para numéricas, primeiro vamos transformar as variáveis do conjunto de treino.</font>"
   ]
  },
  {
   "cell_type": "code",
   "execution_count": 157,
   "metadata": {},
   "outputs": [],
   "source": [
    "cat_cols = ['Negotiation Type', 'District', 'Negotiation Type']\n",
    "enc = OneHotEncoder(drop='first', sparse=False)\n",
    "train_cat_feat = enc.fit_transform(X_train[cat_cols])\n",
    "train_cat_feat = pd.DataFrame(train_cat_feat)\n",
    "train_cat_feat.columns = enc.get_feature_names(cat_cols)\n",
    "train_cat_feat.index = X_train.index\n",
    "train_num_feat = X_train.drop(cat_cols, axis=1)\n",
    "X_train_feat = pd.merge(train_cat_feat, train_num_feat, left_index=True, right_index=True)"
   ]
  },
  {
   "cell_type": "markdown",
   "metadata": {},
   "source": [
    "<font size=3>Realizando o mesmo procedimento para os dados de teste.</font>"
   ]
  },
  {
   "cell_type": "code",
   "execution_count": 158,
   "metadata": {},
   "outputs": [],
   "source": [
    "test_cat_feat = enc.transform(X_test[cat_cols])\n",
    "test_cat_feat = pd.DataFrame(test_cat_feat)\n",
    "test_cat_feat.columns = enc.get_feature_names(cat_cols)\n",
    "test_cat_feat.index = X_test.index\n",
    "test_num_feat = X_test.drop(cat_cols, axis=1)\n",
    "X_test_feat = pd.merge(test_cat_feat, test_num_feat, left_index=True, right_index=True)"
   ]
  },
  {
   "cell_type": "markdown",
   "metadata": {},
   "source": [
    "<a href='#INDICE'>Voltar para o índice</a>\n",
    "<a name='MODEL'></a>\n",
    "<h2>Modelo</h2>\n",
    "<a name='RANDF'></a>\n",
    "<h3>Random Forrest</h3>"
   ]
  },
  {
   "cell_type": "code",
   "execution_count": 177,
   "metadata": {},
   "outputs": [],
   "source": [
    "rf = RandomForestRegressor(n_estimators=300, max_depth=300, min_samples_leaf=2, random_state=75)\n",
    "rf.fit(X_train_feat, y_train)\n",
    "y_train_pred = rf.predict(X_train_feat)"
   ]
  },
  {
   "cell_type": "code",
   "execution_count": 191,
   "metadata": {},
   "outputs": [],
   "source": [
    "def metrics(y_true, y_pred):\n",
    "    mae = mean_absolute_error(y_true, y_pred)\n",
    "    rmse = mean_squared_error(y_true, y_pred)**(1/2)\n",
    "    msle = mean_squared_log_error(y_true, y_pred)\n",
    "    print('Mean Absolute Error: \\t {}\\nRoot Mean Squared Error: {}\\nMean Squared Log Error:  {}'\n",
    "          .format(mae,rmse,msle))"
   ]
  },
  {
   "cell_type": "code",
   "execution_count": 192,
   "metadata": {},
   "outputs": [
    {
     "name": "stdout",
     "output_type": "stream",
     "text": [
      "Mean Absolute Error: \t 21791.1878981434\n",
      "Root Mean Squared Error: 74125.02334204428\n",
      "Mean Squared Log Error:  0.012674304165928886\n"
     ]
    }
   ],
   "source": [
    "metrics(y_train, y_train_pred)"
   ]
  },
  {
   "cell_type": "code",
   "execution_count": null,
   "metadata": {},
   "outputs": [],
   "source": []
  }
 ],
 "metadata": {
  "kernelspec": {
   "display_name": "Python 3",
   "language": "python",
   "name": "python3"
  },
  "language_info": {
   "codemirror_mode": {
    "name": "ipython",
    "version": 3
   },
   "file_extension": ".py",
   "mimetype": "text/x-python",
   "name": "python",
   "nbconvert_exporter": "python",
   "pygments_lexer": "ipython3",
   "version": "3.7.4"
  }
 },
 "nbformat": 4,
 "nbformat_minor": 4
}
